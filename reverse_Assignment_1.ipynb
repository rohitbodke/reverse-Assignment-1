{
  "nbformat": 4,
  "nbformat_minor": 0,
  "metadata": {
    "colab": {
      "provenance": [],
      "authorship_tag": "ABX9TyOKtbAmOfV58Kj96doEDfOc",
      "include_colab_link": true
    },
    "kernelspec": {
      "name": "python3",
      "display_name": "Python 3"
    },
    "language_info": {
      "name": "python"
    }
  },
  "cells": [
    {
      "cell_type": "markdown",
      "metadata": {
        "id": "view-in-github",
        "colab_type": "text"
      },
      "source": [
        "<a href=\"https://colab.research.google.com/github/rohitbodke/reverse-Assignment-1/blob/main/reverse_Assignment_1.ipynb\" target=\"_parent\"><img src=\"https://colab.research.google.com/assets/colab-badge.svg\" alt=\"Open In Colab\"/></a>"
      ]
    },
    {
      "cell_type": "code",
      "execution_count": 1,
      "metadata": {
        "colab": {
          "base_uri": "https://localhost:8080/"
        },
        "id": "aLQpAeXlmuA1",
        "outputId": "846cb1ac-ff08-4567-9676-255709690b92"
      },
      "outputs": [
        {
          "output_type": "stream",
          "name": "stdout",
          "text": [
            "input your string name:Edyoda\n",
            "adoydE \n"
          ]
        }
      ],
      "source": [
        "str = input('input your string name:')\n",
        "str_rev = ' '\n",
        "for i in str:\n",
        "  str_rev = i+str_rev\n",
        "print(str_rev)"
      ]
    }
  ]
}